{
 "cells": [
  {
   "cell_type": "markdown",
   "metadata": {},
   "source": [
    "Can be used to include regularization parameters (tuned to the data) in the estimation procedure.\n",
    "\n",
    "This is done by introducing uninformative priors.\n",
    "\n",
    "Output $y$ is assumed to be Gaussian around $Xw$:\n",
    "$$\n",
    "p(y|X, w, \\alpha) = \\mathcal{N}(y|Xw,\\alpha^{-1})\n",
    "$$\n",
    "\n",
    "For example, $\\ell_2$ regularization is equivalent to finding a maximum a posteriori estimation under a Gaussian prior over the coefficients with precision $\\lambda ^{-1}$."
   ]
  },
  {
   "cell_type": "code",
   "execution_count": null,
   "metadata": {},
   "outputs": [],
   "source": []
  }
 ],
 "metadata": {
  "kernelspec": {
   "display_name": "Python 3",
   "language": "python",
   "name": "python3"
  },
  "language_info": {
   "codemirror_mode": {
    "name": "ipython",
    "version": 3
   },
   "file_extension": ".py",
   "mimetype": "text/x-python",
   "name": "python",
   "nbconvert_exporter": "python",
   "pygments_lexer": "ipython3",
   "version": "3.12.5"
  }
 },
 "nbformat": 4,
 "nbformat_minor": 2
}
